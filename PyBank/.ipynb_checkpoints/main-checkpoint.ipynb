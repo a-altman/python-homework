{
 "cells": [
  {
   "cell_type": "code",
   "execution_count": 1,
   "id": "27579e6d-6817-4207-a3c1-f0d95330f819",
   "metadata": {},
   "outputs": [],
   "source": [
    "from pathlib import Path\n",
    "import csv"
   ]
  },
  {
   "cell_type": "code",
   "execution_count": 13,
   "id": "02dcc594-252a-4a4f-a099-727833a49fef",
   "metadata": {},
   "outputs": [],
   "source": [
    "csvpath = Path('./budget_data.csv')\n",
    "# Track various financial parameters\n",
    "total_months = 0\n",
    "month_of_change = []\n",
    "net_change_list = []\n",
    "greatest_increase = [\"\", 0]\n",
    "greatest_decrease = [\"\", 9999999999999999999]\n",
    "net_total_pnl = 0\n",
    "\n",
    "with open(csvpath, 'r') as pybank_pnl_csv:\n",
    "    csvreader = csv.reader(pybank_pnl_csv, delimiter=',')\n",
    "    header = next(csvreader)\n",
    "    \n",
    "    first_row = next(csvreader)\n",
    "    total_months = total_months + 1\n",
    "    net_total_pnl = net_total_pnl + int(first_row[1])\n",
    "    prev_net = int(first_row[1])"
   ]
  },
  {
   "cell_type": "code",
   "execution_count": null,
   "id": "6c9621cb-4776-4658-8db6-b0b18448d5f4",
   "metadata": {},
   "outputs": [],
   "source": []
  }
 ],
 "metadata": {
  "kernelspec": {
   "display_name": "Python 3 (ipykernel)",
   "language": "python",
   "name": "python3"
  },
  "language_info": {
   "codemirror_mode": {
    "name": "ipython",
    "version": 3
   },
   "file_extension": ".py",
   "mimetype": "text/x-python",
   "name": "python",
   "nbconvert_exporter": "python",
   "pygments_lexer": "ipython3",
   "version": "3.7.11"
  }
 },
 "nbformat": 4,
 "nbformat_minor": 5
}
