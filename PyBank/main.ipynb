{
 "cells": [
  {
   "cell_type": "code",
   "execution_count": 1,
   "id": "02dcc594-252a-4a4f-a099-727833a49fef",
   "metadata": {},
   "outputs": [
    {
     "name": "stdout",
     "output_type": "stream",
     "text": [
      "Financial Analysis\n",
      "------------------------------\n",
      "Total Months: 86\n",
      "Total: $38382578.00\n",
      "Average Change: $-2315.12\n"
     ]
    }
   ],
   "source": [
    "from pathlib import Path\n",
    "import csv\n",
    "\n",
    "\n",
    "csvpath = Path('./budget_data.csv')\n",
    "# Track various financial parameters\n",
    "total_months = 0\n",
    "month_of_change = []\n",
    "pnl_change_list = []\n",
    "greatest_increase = [\"\", 0]\n",
    "greatest_decrease = [\"\", 999999999999999]\n",
    "net_total_pnl = 0\n",
    "sum_pnl_changes = 0\n",
    "\n",
    "\n",
    "with open(csvpath, 'r') as pybank_pnl_csv:\n",
    "    csvreader = csv.reader(pybank_pnl_csv, delimiter=',')\n",
    "    header = next(csvreader)\n",
    "    first_row = next(csvreader)\n",
    "    total_months = total_months + 1\n",
    "    net_total_pnl = net_total_pnl + int(first_row[1])\n",
    "    prev_pnl = int(first_row[1])\n",
    "   \n",
    "    \n",
    "    for row in csvreader:\n",
    "\n",
    "        total_months = total_months + 1\n",
    "        net_total_pnl = net_total_pnl + int(row[1])\n",
    "\n",
    "        net_change = int(row[1]) - prev_pnl\n",
    "        prev_pnl = int(row[1])\n",
    "        pnl_change_list = pnl_change_list + [net_change]\n",
    "          \n",
    " \n",
    "    \n",
    "    for change in pnl_change_list:\n",
    "       sum_pnl_changes += change\n",
    "    \n",
    "    num_pnl_changes = len(pnl_change_list)\n",
    "    average_pnl_change = sum_pnl_changes/num_pnl_changes\n",
    "    \n",
    "    \n",
    "    print(\"Financial Analysis\")\n",
    "    print(\"------------------------------\")\n",
    "    print(f\"Total Months: {total_months}\")\n",
    "    print(f\"Total: ${net_total_pnl:.2f}\")\n",
    "    print(f\"Average Change: ${average_pnl_change:.2f}\")"
   ]
  },
  {
   "cell_type": "code",
   "execution_count": null,
   "id": "6c9621cb-4776-4658-8db6-b0b18448d5f4",
   "metadata": {},
   "outputs": [],
   "source": []
  }
 ],
 "metadata": {
  "kernelspec": {
   "display_name": "Python 3 (ipykernel)",
   "language": "python",
   "name": "python3"
  },
  "language_info": {
   "codemirror_mode": {
    "name": "ipython",
    "version": 3
   },
   "file_extension": ".py",
   "mimetype": "text/x-python",
   "name": "python",
   "nbconvert_exporter": "python",
   "pygments_lexer": "ipython3",
   "version": "3.7.11"
  }
 },
 "nbformat": 4,
 "nbformat_minor": 5
}
